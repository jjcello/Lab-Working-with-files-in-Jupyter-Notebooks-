{
 "cells": [
  {
   "cell_type": "markdown",
   "id": "d4df7c83-f09b-44cb-98d5-3f3535c66d68",
   "metadata": {},
   "source": [
    "# Data Science Tools and Ecosystem"
   ]
  },
  {
   "cell_type": "markdown",
   "id": "7e3bb4aa-dbac-4115-b37b-1f1eaae6bfad",
   "metadata": {},
   "source": [
    "In this notebook, Data Science Tools and Ecosystem are summarized."
   ]
  },
  {
   "cell_type": "markdown",
   "id": "856ba42d-c467-443d-92cf-5a1a5f7ecbd8",
   "metadata": {},
   "source": [
    "Some of the popular languages that Data Scientists use are:\n",
    "1. Python\n",
    "2. R\n",
    "3. SQL\n",
    "4. Javascript\n"
   ]
  },
  {
   "cell_type": "markdown",
   "id": "62a1f417-55ab-4b1d-ae3d-6c0f79224e32",
   "metadata": {},
   "source": [
    "Some of the commonly used libraries used by Data Scientists include:\n",
    "1. Panda\n",
    "2. Numpy\n",
    "3. Metaplotlib\n",
    "4. MetaPlotlib"
   ]
  },
  {
   "cell_type": "markdown",
   "id": "52faf12a-6626-4e79-81d6-9f07a681b42a",
   "metadata": {},
   "source": [
    "Data Science Tools\n",
    "1. TensorFlow\n",
    "2. Scikit-learn\n",
    "3. PyTorch\n"
   ]
  },
  {
   "cell_type": "markdown",
   "id": "ff53b0f1-9fa9-49eb-90cb-600c1d0511dd",
   "metadata": {},
   "source": [
    "### Below are a few examples of evaluating arithmetic expressions in Python"
   ]
  },
  {
   "cell_type": "code",
   "execution_count": 5,
   "id": "185818a0-4866-4687-ad14-095b4e1fa322",
   "metadata": {},
   "outputs": [
    {
     "name": "stdout",
     "output_type": "stream",
     "text": [
      "17\n"
     ]
    }
   ],
   "source": [
    "# This a simple arithmetic expression to mutiply then add integers\n",
    "print((3*4)+5)\n"
   ]
  },
  {
   "cell_type": "code",
   "execution_count": null,
   "id": "6482b211-39b6-48e9-8414-699ad893f10e",
   "metadata": {},
   "outputs": [],
   "source": []
  }
 ],
 "metadata": {
  "kernelspec": {
   "display_name": "Python [conda env:base] *",
   "language": "python",
   "name": "conda-base-py"
  },
  "language_info": {
   "codemirror_mode": {
    "name": "ipython",
    "version": 3
   },
   "file_extension": ".py",
   "mimetype": "text/x-python",
   "name": "python",
   "nbconvert_exporter": "python",
   "pygments_lexer": "ipython3",
   "version": "3.12.7"
  }
 },
 "nbformat": 4,
 "nbformat_minor": 5
}
